{
 "cells": [
  {
   "cell_type": "code",
   "execution_count": null,
   "id": "burning-scientist",
   "metadata": {},
   "outputs": [],
   "source": [
    " import pandas as pd \n",
    "import numpy as np \n",
    "import sklearn \n",
    "import matplotlib.pyplot as plt\n",
    "import seaborn as sns\n",
    "from sklearn.utils import shuffle\n",
    "from imblearn.over_sampling import SMOTE\n",
    "df = pd.read_csv(\"covid19chest_x_ray.csv\")"
   ]
  },
  {
   "cell_type": "code",
   "execution_count": null,
   "id": "tight-buyer",
   "metadata": {},
   "outputs": [],
   "source": [
    "df.drop(['Unnamed: 0','Unnamed: 0.1'],axis =1,inplace = True)\n",
    "df.head()"
   ]
  },
  {
   "cell_type": "code",
   "execution_count": null,
   "id": "disciplinary-vegetable",
   "metadata": {},
   "outputs": [],
   "source": [
    "df['0'].value_counts()\n",
    "for i in range(0,len(df)):\n",
    "    if(df.loc[i,'0'] == 'covid'):\n",
    "        df.iloc[i,-1] = 'positive'\n",
    "    else:\n",
    "        df.iloc[i,-1] = 'negative'\n",
    "df.drop('0',axis =1 , inplace = True)"
   ]
  },
  {
   "cell_type": "code",
   "execution_count": null,
   "id": "composed-advertiser",
   "metadata": {},
   "outputs": [],
   "source": [
    "X  = df.iloc[:,:-1]\n",
    "Y = df.iloc[:,-1]\n",
    "from imblearn.over_sampling import SMOTE\n",
    "smote = SMOTE()\n",
    "X_smote,Y_smote = smote.fit_resample(X,Y)\n",
    "final_df = pd.concat([X_smote,Y_smote],axis = 1)\n",
    "shuffled_df = shuffle(final_df)\n"
   ]
  },
  {
   "cell_type": "code",
   "execution_count": null,
   "id": "residential-creation",
   "metadata": {},
   "outputs": [],
   "source": [
    "sample1 = shuffled_df.iloc[0:1000,:]\n",
    "sample2 = shuffled_df.iloc[1000:2000,:]\n",
    "sample3 = shuffled_df.iloc[2000:3000,:]\n",
    "sample4 = shuffled_df.iloc[3000:4000,:]\n",
    "sample5 = shuffled_df.iloc[4000:5000,:]\n",
    "sample6 = shuffled_df.iloc[5000:6000,:]\n",
    "sample7 = shuffled_df.iloc[6000:7000,:]\n",
    "sample8 = shuffled_df.iloc[7000:8000,:]\n",
    "sample9 = shuffled_df.iloc[8000:9000,:]\n",
    "sample10 = shuffled_df.iloc[9000:10106,:]\n",
    "sample1.to_csv('sample12.csv')\n",
    "sample2.to_csv('sample12.csv')\n",
    "sample3.to_csv('sample12.csv')\n",
    "sample4.to_csv('sample12.csv')\n",
    "sample5.to_csv('sample12.csv')\n",
    "sample6.to_csv('sample12.csv')\n",
    "sample7.to_csv('sample12.csv')\n",
    "sample8.to_csv('sample12.csv')\n",
    "sample9.to_csv('sample12.csv')\n",
    "sample10.to_csv('sample12.csv')\n",
    "print(\"Successfully Saved\")\n"
   ]
  },
  {
   "cell_type": "code",
   "execution_count": null,
   "id": "exceptional-merchant",
   "metadata": {},
   "outputs": [],
   "source": [
    "covid_ind = shuffled_df[shuffled_df['class'] == 'positive'].index\n",
    "cov_index = []\n",
    "for i in range(0,1500):\n",
    "    cind  = np.random.randint(0,5053)\n",
    "    cov_index.append(covid_ind[cind])\n",
    "normal_ind = shuffled_df[shuffled_df['class'] != 'positive'].index\n",
    "norm_ind = []\n",
    "for i in range(0,1500):\n",
    "    nind = np.random.randint(0,5053)\n",
    "    norm_ind.append(normal_ind[nind])\n",
    "    \n",
    "cov_positive = shuffled_df.loc[cov_index]\n",
    "cov_negative = shuffled_df.loc[norm_ind]\n",
    "sample11 = pd.concat([cov_positive,cov_negative],axis= 0 )\n",
    "sample11.to_csv('sample11.csv')\n",
    "for i in range(0,1500):\n",
    "    nind = np.random.randint(0,5053)\n",
    "    norm_ind.append(normal_ind[nind])\n",
    "sample12 = pd.concat([cov_positive,cov_negative],axis= 0 )\n",
    "sample12.to_csv('sample12.csv')"
   ]
  }
 ],
 "metadata": {
  "kernelspec": {
   "display_name": "Python 3",
   "language": "python",
   "name": "python3"
  },
  "language_info": {
   "codemirror_mode": {
    "name": "ipython",
    "version": 3
   },
   "file_extension": ".py",
   "mimetype": "text/x-python",
   "name": "python",
   "nbconvert_exporter": "python",
   "pygments_lexer": "ipython3",
   "version": "3.9.6"
  }
 },
 "nbformat": 4,
 "nbformat_minor": 5
}
