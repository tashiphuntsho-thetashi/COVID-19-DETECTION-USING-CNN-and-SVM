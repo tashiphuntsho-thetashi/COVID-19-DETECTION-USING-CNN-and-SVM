{
 "cells": [
  {
   "cell_type": "code",
   "execution_count": 1,
   "metadata": {},
   "outputs": [],
   "source": [
    "import pickle \n",
    "import pandas as pd \n",
    "import numpy as np\n",
    "import sklearn\n",
    "import matplotlib.pyplot as plt \n",
    "import seaborn as sns\n",
    "def decode(val):\n",
    "    if val==0:\n",
    "        return 'negative'\n",
    "    else:\n",
    "        return 'positive'"
   ]
  },
  {
   "cell_type": "code",
   "execution_count": 2,
   "metadata": {},
   "outputs": [],
   "source": [
    "svm1 = pickle.load(open('svm1.sav','rb'))\n",
    "svm2 = pickle.load(open('svm2.sav','rb'))\n",
    "svm3 = pickle.load(open('svm3.sav','rb'))\n",
    "svm4 = pickle.load(open('svm4.sav','rb'))\n",
    "svm5 = pickle.load(open('svm5.sav','rb'))\n",
    "svm6 = pickle.load(open('svm6.sav','rb'))\n",
    "svm7 = pickle.load(open('svm7.sav','rb'))\n",
    "svm8 = pickle.load(open('svm8.sav','rb'))\n",
    "svm9 = pickle.load(open('svm9.sav','rb'))\n",
    "svm10 = pickle.load(open('svm10.sav','rb'))\n",
    "svm11 = pickle.load(open('svm11.sav','rb'))\n",
    "svm12 = pickle.load(open('svm12.sav','rb'))"
   ]
  },
  {
   "cell_type": "code",
   "execution_count": 3,
   "metadata": {},
   "outputs": [],
   "source": [
    "models = [svm1,svm2,svm3,svm4,svm5,svm6,svm7,svm8,svm9,svm10,svm11,svm12]"
   ]
  },
  {
   "cell_type": "code",
   "execution_count": 4,
   "metadata": {},
   "outputs": [
    {
     "data": {
      "text/html": [
       "<div>\n",
       "<style scoped>\n",
       "    .dataframe tbody tr th:only-of-type {\n",
       "        vertical-align: middle;\n",
       "    }\n",
       "\n",
       "    .dataframe tbody tr th {\n",
       "        vertical-align: top;\n",
       "    }\n",
       "\n",
       "    .dataframe thead th {\n",
       "        text-align: right;\n",
       "    }\n",
       "</style>\n",
       "<table border=\"1\" class=\"dataframe\">\n",
       "  <thead>\n",
       "    <tr style=\"text-align: right;\">\n",
       "      <th></th>\n",
       "      <th>Unnamed: 0</th>\n",
       "      <th>0.1</th>\n",
       "      <th>1</th>\n",
       "      <th>2</th>\n",
       "      <th>3</th>\n",
       "      <th>4</th>\n",
       "      <th>5</th>\n",
       "      <th>6</th>\n",
       "      <th>7</th>\n",
       "      <th>8</th>\n",
       "      <th>...</th>\n",
       "      <th>25079</th>\n",
       "      <th>25080</th>\n",
       "      <th>25081</th>\n",
       "      <th>25082</th>\n",
       "      <th>25083</th>\n",
       "      <th>25084</th>\n",
       "      <th>25085</th>\n",
       "      <th>25086</th>\n",
       "      <th>25087</th>\n",
       "      <th>class</th>\n",
       "    </tr>\n",
       "  </thead>\n",
       "  <tbody>\n",
       "    <tr>\n",
       "      <th>0</th>\n",
       "      <td>9516</td>\n",
       "      <td>0.0</td>\n",
       "      <td>0.0</td>\n",
       "      <td>3.727443</td>\n",
       "      <td>0.000000</td>\n",
       "      <td>0.0</td>\n",
       "      <td>0.0</td>\n",
       "      <td>0.0</td>\n",
       "      <td>0.000000</td>\n",
       "      <td>3.844285</td>\n",
       "      <td>...</td>\n",
       "      <td>0.0</td>\n",
       "      <td>13.565496</td>\n",
       "      <td>1.377959</td>\n",
       "      <td>0.0</td>\n",
       "      <td>0.000000</td>\n",
       "      <td>0.000000</td>\n",
       "      <td>0.0</td>\n",
       "      <td>8.875432</td>\n",
       "      <td>0.0</td>\n",
       "      <td>positive</td>\n",
       "    </tr>\n",
       "    <tr>\n",
       "      <th>1</th>\n",
       "      <td>6193</td>\n",
       "      <td>0.0</td>\n",
       "      <td>0.0</td>\n",
       "      <td>0.000000</td>\n",
       "      <td>0.000000</td>\n",
       "      <td>0.0</td>\n",
       "      <td>0.0</td>\n",
       "      <td>0.0</td>\n",
       "      <td>0.000000</td>\n",
       "      <td>0.000000</td>\n",
       "      <td>...</td>\n",
       "      <td>0.0</td>\n",
       "      <td>0.000000</td>\n",
       "      <td>2.342277</td>\n",
       "      <td>0.0</td>\n",
       "      <td>11.446189</td>\n",
       "      <td>0.000000</td>\n",
       "      <td>0.0</td>\n",
       "      <td>0.000000</td>\n",
       "      <td>0.0</td>\n",
       "      <td>positive</td>\n",
       "    </tr>\n",
       "    <tr>\n",
       "      <th>2</th>\n",
       "      <td>4384</td>\n",
       "      <td>0.0</td>\n",
       "      <td>0.0</td>\n",
       "      <td>0.000000</td>\n",
       "      <td>0.000000</td>\n",
       "      <td>0.0</td>\n",
       "      <td>0.0</td>\n",
       "      <td>0.0</td>\n",
       "      <td>0.000000</td>\n",
       "      <td>4.328472</td>\n",
       "      <td>...</td>\n",
       "      <td>0.0</td>\n",
       "      <td>0.000000</td>\n",
       "      <td>0.000000</td>\n",
       "      <td>0.0</td>\n",
       "      <td>0.000000</td>\n",
       "      <td>8.928577</td>\n",
       "      <td>0.0</td>\n",
       "      <td>0.000000</td>\n",
       "      <td>0.0</td>\n",
       "      <td>positive</td>\n",
       "    </tr>\n",
       "    <tr>\n",
       "      <th>3</th>\n",
       "      <td>9927</td>\n",
       "      <td>0.0</td>\n",
       "      <td>0.0</td>\n",
       "      <td>0.000000</td>\n",
       "      <td>0.021892</td>\n",
       "      <td>0.0</td>\n",
       "      <td>0.0</td>\n",
       "      <td>0.0</td>\n",
       "      <td>0.000000</td>\n",
       "      <td>0.000000</td>\n",
       "      <td>...</td>\n",
       "      <td>0.0</td>\n",
       "      <td>0.000000</td>\n",
       "      <td>0.000000</td>\n",
       "      <td>0.0</td>\n",
       "      <td>0.000000</td>\n",
       "      <td>0.629863</td>\n",
       "      <td>0.0</td>\n",
       "      <td>0.000000</td>\n",
       "      <td>0.0</td>\n",
       "      <td>positive</td>\n",
       "    </tr>\n",
       "    <tr>\n",
       "      <th>4</th>\n",
       "      <td>62</td>\n",
       "      <td>0.0</td>\n",
       "      <td>0.0</td>\n",
       "      <td>0.000000</td>\n",
       "      <td>0.000000</td>\n",
       "      <td>0.0</td>\n",
       "      <td>0.0</td>\n",
       "      <td>0.0</td>\n",
       "      <td>0.064756</td>\n",
       "      <td>0.000000</td>\n",
       "      <td>...</td>\n",
       "      <td>0.0</td>\n",
       "      <td>0.000000</td>\n",
       "      <td>1.679515</td>\n",
       "      <td>0.0</td>\n",
       "      <td>0.000000</td>\n",
       "      <td>0.000000</td>\n",
       "      <td>0.0</td>\n",
       "      <td>0.695155</td>\n",
       "      <td>0.0</td>\n",
       "      <td>positive</td>\n",
       "    </tr>\n",
       "  </tbody>\n",
       "</table>\n",
       "<p>5 rows × 25090 columns</p>\n",
       "</div>"
      ],
      "text/plain": [
       "   Unnamed: 0  0.1    1         2         3    4    5    6         7  \\\n",
       "0        9516  0.0  0.0  3.727443  0.000000  0.0  0.0  0.0  0.000000   \n",
       "1        6193  0.0  0.0  0.000000  0.000000  0.0  0.0  0.0  0.000000   \n",
       "2        4384  0.0  0.0  0.000000  0.000000  0.0  0.0  0.0  0.000000   \n",
       "3        9927  0.0  0.0  0.000000  0.021892  0.0  0.0  0.0  0.000000   \n",
       "4          62  0.0  0.0  0.000000  0.000000  0.0  0.0  0.0  0.064756   \n",
       "\n",
       "          8  ...  25079      25080     25081  25082      25083     25084  \\\n",
       "0  3.844285  ...    0.0  13.565496  1.377959    0.0   0.000000  0.000000   \n",
       "1  0.000000  ...    0.0   0.000000  2.342277    0.0  11.446189  0.000000   \n",
       "2  4.328472  ...    0.0   0.000000  0.000000    0.0   0.000000  8.928577   \n",
       "3  0.000000  ...    0.0   0.000000  0.000000    0.0   0.000000  0.629863   \n",
       "4  0.000000  ...    0.0   0.000000  1.679515    0.0   0.000000  0.000000   \n",
       "\n",
       "   25085     25086  25087     class  \n",
       "0    0.0  8.875432    0.0  positive  \n",
       "1    0.0  0.000000    0.0  positive  \n",
       "2    0.0  0.000000    0.0  positive  \n",
       "3    0.0  0.000000    0.0  positive  \n",
       "4    0.0  0.695155    0.0  positive  \n",
       "\n",
       "[5 rows x 25090 columns]"
      ]
     },
     "execution_count": 4,
     "metadata": {},
     "output_type": "execute_result"
    }
   ],
   "source": [
    "df = pd.read_csv('sample12.csv')\n",
    "df.head()"
   ]
  },
  {
   "cell_type": "code",
   "execution_count": 5,
   "metadata": {},
   "outputs": [],
   "source": [
    "df.drop('Unnamed: 0', axis = 1, inplace = True)\n",
    "test_set = df.sample(frac = 0.333,replace = False)\n",
    "y_true = test_set['class']\n",
    "x_test = test_set.drop('class',axis =1)\n",
    "\n",
    "\n"
   ]
  },
  {
   "cell_type": "code",
   "execution_count": 7,
   "metadata": {},
   "outputs": [],
   "source": [
    "pred = []\n",
    "for mod in models:\n",
    "    pred.append(mod.predict(x_test))\n",
    "mod_predictions = pd.DataFrame(np.transpose(pred),\\\n",
    "    columns = ['svm1','svm2','svm3','svm4','svm5','svm6','svm7','svm8','svm9','svm10','svm11','svm12'])\n",
    "mod_predictions['y_pred'] = mod_predictions.mode(axis = 1)\n",
    "mod_predictions['y_pred'] = mod_predictions['y_pred'].apply(decode)\n",
    "y_pred = mod_predictions['y_pred']\n",
    "print(mod_predictions['y_pred'].head())\n",
    "print(mod_predictions.head())"
   ]
  },
  {
   "cell_type": "markdown",
   "metadata": {},
   "source": [
    "# Confusion Matrix"
   ]
  },
  {
   "cell_type": "code",
   "execution_count": 53,
   "metadata": {},
   "outputs": [
    {
     "data": {
      "text/plain": [
       "array([[456,  24],\n",
       "       [ 14, 505]], dtype=int64)"
      ]
     },
     "execution_count": 53,
     "metadata": {},
     "output_type": "execute_result"
    }
   ],
   "source": [
    "from sklearn.metrics import confusion_matrix\n",
    "conf_matrix = confusion_matrix(y_true,y_pred)\n",
    "conf_matrix"
   ]
  },
  {
   "cell_type": "code",
   "execution_count": 80,
   "metadata": {},
   "outputs": [
    {
     "data": {
      "image/png": "[encoded data removed]",
      "text/plain": [
       "<Figure size 432x288 with 2 Axes>"
      ]
     },
     "metadata": {
      "needs_background": "light"
     },
     "output_type": "display_data"
    }
   ],
   "source": [
    "from sklearn.metrics import confusion_matrix\n",
    "conf_matrix = confusion_matrix(y_true,y_pred)\n",
    "ax = sns.heatmap(conf_matrix, annot=True, \n",
    "            fmt='.1f',alpha = 0.8)\n",
    "ax.set_title('Confusion Matirx\\n\\n')\n",
    "ax.set_xlabel('\\nPredicted Values')\n",
    "ax.set_ylabel('Actual Values ')\n",
    "ax.xaxis.set_ticklabels(['Negative','Positive'])\n",
    "ax.yaxis.set_ticklabels(['Negative','Positive'])\n",
    "plt.show()"
   ]
  },
  {
   "cell_type": "markdown",
   "metadata": {},
   "source": [
    "# Other Metrics"
   ]
  },
  {
   "cell_type": "code",
   "execution_count": 89,
   "metadata": {},
   "outputs": [
    {
     "name": "stdout",
     "output_type": "stream",
     "text": [
      "Accuracy:  0.9619619619619619\n",
      "\n",
      "Precision :  0.9546313799621928\n",
      "\n",
      "Recall :  0.9730250481695568\n",
      "\n",
      "Sensitivity :  0.9730250481695568\n",
      "\n",
      "Specificity:  0.95\n"
     ]
    }
   ],
   "source": [
    "TP = 505\n",
    "TN = 456\n",
    "FP = 24\n",
    "FN =14\n",
    "accuracy = (TP + TN)/(TP + TN + FP + FN)\n",
    "print(\"Accuracy: \",accuracy)\n",
    "precision = TP / (TP + FP)\n",
    "print(\"\\nPrecision : \",precision)\n",
    "recall = TP / (TP + FN) \n",
    "print(\"\\nRecall : \", recall)\n",
    "sensitivity= TP/(TP+FN)\n",
    "print(\"\\nSensitivity : \",sensitivity)\n",
    "specificity = TN /(FP+TN)\n",
    "print(\"\\nSpecificity: \", specificity)\n",
    "\n",
    "f1_score = (2*precision * recall) / (precision + recall)\n"
   ]
  },
  {
   "cell_type": "code",
   "execution_count": null,
   "metadata": {},
   "outputs": [],
   "source": []
  }
 ],
 "metadata": {
  "interpreter": {
   "hash": "247ab06e135bb35fa78c5eff31b2a9a0050dcb5fb773c2631d2a29ac689eeccb"
  },
  "kernelspec": {
   "display_name": "Python 3.9.6 64-bit",
   "language": "python",
   "name": "python3"
  },
  "language_info": {
   "codemirror_mode": {
    "name": "ipython",
    "version": 3
   },
   "file_extension": ".py",
   "mimetype": "text/x-python",
   "name": "python",
   "nbconvert_exporter": "python",
   "pygments_lexer": "ipython3",
   "version": "3.9.6"
  },
  "orig_nbformat": 4
 },
 "nbformat": 4,
 "nbformat_minor": 2
}
